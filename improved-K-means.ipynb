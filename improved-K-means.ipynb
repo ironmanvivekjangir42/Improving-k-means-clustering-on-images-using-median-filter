{
 "cells": [
  {
   "cell_type": "markdown",
   "metadata": {},
   "source": [
    "Symmetric Nearest Neighbours"
   ]
  },
  {
   "cell_type": "code",
   "execution_count": 1,
   "metadata": {},
   "outputs": [],
   "source": [
    "import numpy as np\n",
    "import scipy.ndimage"
   ]
  },
  {
   "cell_type": "code",
   "execution_count": 2,
   "metadata": {},
   "outputs": [],
   "source": [
    "import cv2\n",
    "from matplotlib import pyplot as plt"
   ]
  },
  {
   "cell_type": "code",
   "execution_count": 3,
   "metadata": {},
   "outputs": [],
   "source": [
    "img = cv2.imread('lowres-blured.png',cv2.COLOR_HSV2RGB)\n",
    "median = cv2.medianBlur(img, 3)\n"
   ]
  },
  {
   "cell_type": "code",
   "execution_count": 4,
   "metadata": {},
   "outputs": [],
   "source": [
    "cv2.imshow(\"original\",img)\n",
    "cv2.imshow(\"median\",median)\n",
    "cv2.waitKey(0)\n",
    "cv2.destroyAllWindows()"
   ]
  },
  {
   "cell_type": "code",
   "execution_count": 5,
   "metadata": {},
   "outputs": [],
   "source": [
    "def kmeans(img):\n",
    "    # convert to RGB\n",
    "    image = cv2.cvtColor(img, cv2.COLOR_BGR2RGB)\n",
    "    # reshape the image to a 2D array of pixels and 3 color values (RGB)\n",
    "    pixel_values = image.reshape((-1, 3))\n",
    "    # convert to float\n",
    "    pixel_values = np.float32(pixel_values)\n",
    "    print(pixel_values.shape)\n",
    "    # define stopping criteria\n",
    "    criteria = (cv2.TERM_CRITERIA_EPS + cv2.TERM_CRITERIA_MAX_ITER, 100, 0.2)\n",
    "    # number of clusters (K)\n",
    "    k = 10\n",
    "    _, labels, (centers) = cv2.kmeans(pixel_values, k, None, criteria, 10, cv2.KMEANS_RANDOM_CENTERS)\n",
    "    # convert back to 8 bit values\n",
    "    centers = np.uint8(centers)\n",
    "\n",
    "    # flatten the labels array\n",
    "    labels = labels.flatten()\n",
    "    # convert all pixels to the color of the centroids\n",
    "    segmented_image = centers[labels.flatten()]\n",
    "    # reshape back to the original image dimension\n",
    "    segmented_image = segmented_image.reshape(image.shape)\n",
    "    return segmented_image, labels"
   ]
  },
  {
   "cell_type": "code",
   "execution_count": 6,
   "metadata": {},
   "outputs": [],
   "source": [
    "def mask(img,labels):\n",
    "    # disable only the cluster number 2 (turn the pixel into black)\n",
    "    masked_image = np.copy(img)\n",
    "    # convert to the shape of a vector of pixel values\n",
    "    masked_image = masked_image.reshape((-1, 3))\n",
    "    # color (i.e cluster) to disable\n",
    "    cluster = 0\n",
    "    masked_image[labels != cluster] = [0, 0, 0] \n",
    "    # convert back to original shape\n",
    "    masked_image = masked_image.reshape(img.shape)\n",
    "    return masked_image"
   ]
  },
  {
   "cell_type": "code",
   "execution_count": null,
   "metadata": {},
   "outputs": [
    {
     "name": "stdout",
     "output_type": "stream",
     "text": [
      "(184320, 3)\n"
     ]
    }
   ],
   "source": [
    "segmented_image_median,labels_median = kmeans(median)\n",
    "\n",
    "image_masked_median = mask(img,labels_median)\n",
    "\n",
    "cv2.imshow(\"original\",img)\n",
    "cv2.imshow(\"seg median\",segmented_image_median)\n",
    "cv2.imshow(\"mask median\",image_masked_median)\n",
    "cv2.waitKey(0)\n",
    "cv2.destroyAllWindows()"
   ]
  },
  {
   "cell_type": "code",
   "execution_count": null,
   "metadata": {},
   "outputs": [],
   "source": []
  },
  {
   "cell_type": "code",
   "execution_count": null,
   "metadata": {},
   "outputs": [],
   "source": []
  }
 ],
 "metadata": {
  "kernelspec": {
   "display_name": "Python 3",
   "language": "python",
   "name": "python3"
  },
  "language_info": {
   "codemirror_mode": {
    "name": "ipython",
    "version": 3
   },
   "file_extension": ".py",
   "mimetype": "text/x-python",
   "name": "python",
   "nbconvert_exporter": "python",
   "pygments_lexer": "ipython3",
   "version": "3.7.3"
  }
 },
 "nbformat": 4,
 "nbformat_minor": 2
}
